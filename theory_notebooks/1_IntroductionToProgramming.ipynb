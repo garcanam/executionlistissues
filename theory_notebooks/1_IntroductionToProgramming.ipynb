{
  "cells": [
    {
      "cell_type": "markdown",
      "metadata": {
        "id": "view-in-github",
        "colab_type": "text"
      },
      "source": [
        "<a href=\"https://colab.research.google.com/github/garcanam/executionlistissues/blob/main/theory_notebooks/1_IntroductionToProgramming.ipynb\" target=\"_parent\"><img src=\"https://colab.research.google.com/assets/colab-badge.svg\" alt=\"Open In Colab\"/></a>"
      ]
    },
    {
      "cell_type": "markdown",
      "id": "46a7431d9d8b5200",
      "metadata": {
        "collapsed": false,
        "id": "46a7431d9d8b5200"
      },
      "source": [
        "# Introduction to Programming and Python\n",
        "## Overview:\n",
        "# This notebook provides an introduction to programming concepts and the Python language.\n",
        "\n",
        "### What is Programming?\n",
        "Programming is the process of instructing a computer to perform tasks by providing it with a set of instructions written in a programming language.\n",
        "\n",
        "### Different Types of Programming Languages\n",
        "\n",
        "There are various types of programming languages, including:\n",
        "- High-level languages: Python, Java, C++\n",
        "- Low-level languages: Assembly, Machine Code\n",
        "\n",
        "### Python Basics\n",
        "    - Arithmetic Operators and Variables\n",
        "    - Comparison Operators\n",
        "    - Data Types (Integers, Floats, Strings, Booleans)\n",
        "    - Functions"
      ]
    },
    {
      "cell_type": "markdown",
      "id": "ce92fcbe62cf0871",
      "metadata": {
        "collapsed": false,
        "id": "ce92fcbe62cf0871"
      },
      "source": [
        "### Arithmetic Operators and Variables:\n",
        "#### - Arithmetic operators (+, -, *, /, //, **) are used to perform mathematical operations.\n",
        "#### - Variables are used to store data values. Python is dynamically typed, so you don't need to declare the variable type explicitly."
      ]
    },
    {
      "cell_type": "code",
      "execution_count": 1,
      "id": "9614393a14f2ad7d",
      "metadata": {
        "ExecuteTime": {
          "end_time": "2024-04-10T11:31:28.504313Z",
          "start_time": "2024-04-10T11:31:28.499834Z"
        },
        "id": "9614393a14f2ad7d"
      },
      "outputs": [],
      "source": [
        "a = 2 + 3 * (2 + 3) * 2 # Example arithmetic expression"
      ]
    },
    {
      "cell_type": "markdown",
      "id": "ee99ef132a3b28bd",
      "metadata": {
        "collapsed": false,
        "id": "ee99ef132a3b28bd"
      },
      "source": [
        "#### Variables and printing:\n",
        "#### - The 'print()' function is used to display output in Python."
      ]
    },
    {
      "cell_type": "code",
      "execution_count": 2,
      "id": "545623b5c084857a",
      "metadata": {
        "id": "545623b5c084857a",
        "outputId": "ac633357-12a5-4bb5-c3b1-431b3ce44c68",
        "colab": {
          "base_uri": "https://localhost:8080/"
        }
      },
      "outputs": [
        {
          "output_type": "stream",
          "name": "stdout",
          "text": [
            "9\n"
          ]
        }
      ],
      "source": [
        "a = 3\n",
        "print(a * 3)  # Output: 9"
      ]
    },
    {
      "cell_type": "markdown",
      "id": "b5d8f14052d58286",
      "metadata": {
        "collapsed": false,
        "id": "b5d8f14052d58286"
      },
      "source": [
        "####  Incrementing variables:\n",
        "####  - Python supports shorthand assignment operators (e.g., +=, *=)."
      ]
    },
    {
      "cell_type": "code",
      "execution_count": 3,
      "id": "51a5fa23b9a30cc0",
      "metadata": {
        "ExecuteTime": {
          "end_time": "2024-04-10T11:32:48.208917Z",
          "start_time": "2024-04-10T11:32:48.204725Z"
        },
        "id": "51a5fa23b9a30cc0",
        "outputId": "e2f97c38-b5cb-4fd3-99e1-3d036de840ff",
        "colab": {
          "base_uri": "https://localhost:8080/"
        }
      },
      "outputs": [
        {
          "output_type": "stream",
          "name": "stdout",
          "text": [
            "16\n"
          ]
        }
      ],
      "source": [
        "a = 3\n",
        "a += 5  # Equivalent to: a = a + 5\n",
        "a *= 2  # Equivalent to: a = a * 2\n",
        "print(a)  # Output: 16"
      ]
    },
    {
      "cell_type": "markdown",
      "id": "a6f3e7b3ef4ac929",
      "metadata": {
        "collapsed": false,
        "id": "a6f3e7b3ef4ac929"
      },
      "source": [
        "### Comparison Operators:\n",
        "\n",
        "- Comparison operators are used to compare values. They return either True or False based on the comparison result.\n",
        "- Here's a list of comparison operators in Python:\n",
        "\n",
        "    - `==` : Equal to\n",
        "    - `!=` : Not equal to\n",
        "    - `<`  : Less than\n",
        "    - `>`  : Greater than\n",
        "    - `<=` : Less than or equal to\n",
        "    - `>=` : Greater than or equal to"
      ]
    },
    {
      "cell_type": "code",
      "execution_count": 4,
      "id": "1724d1d3d2564eba",
      "metadata": {
        "id": "1724d1d3d2564eba",
        "outputId": "7907db69-c3b3-496a-9798-a16897aa2222",
        "colab": {
          "base_uri": "https://localhost:8080/"
        }
      },
      "outputs": [
        {
          "output_type": "stream",
          "name": "stdout",
          "text": [
            "True\n",
            "False\n",
            "True\n"
          ]
        }
      ],
      "source": [
        "a = 2\n",
        "print(a < 3)  # Output: True (2 is less than 3)\n",
        "print(a == 4)  # Output: False (2 is not equal to 4)\n",
        "\n",
        "# Chaining comparison operators:\n",
        "# - You can chain multiple comparison operators together in a single expression.\n",
        "print(2 < 3 < 4)  # Output: True (2 is less than 3, and 3 is less than 4)"
      ]
    },
    {
      "cell_type": "markdown",
      "id": "a76f1b0a352c6d87",
      "metadata": {
        "collapsed": false,
        "id": "a76f1b0a352c6d87"
      },
      "source": [
        "### Data Types:\n",
        "\n",
        "Python supports several built-in data types, including:\n",
        " - Integers (int): Whole numbers without any decimal point.\n",
        " - Floating-point numbers (float): Real numbers with a decimal point.\n",
        " - Strings (str): Sequence of characters enclosed within single ('') or double (\"\") quotes.\n",
        " - Booleans (bool): Represents either True or False."
      ]
    },
    {
      "cell_type": "code",
      "execution_count": null,
      "id": "4accf8b042c7773c",
      "metadata": {
        "id": "4accf8b042c7773c"
      },
      "outputs": [],
      "source": [
        "# Integer\n",
        "age = 25\n",
        "print(\"Age:\", age, \"Type:\", type(age))  # Output: Age: 25 Type: <class 'int'>\n",
        "\n",
        "# Float\n",
        "height = 1.75\n",
        "print(\"Height:\", height, \"Type:\", type(height))  # Output: Height: 1.75 Type: <class 'float'>"
      ]
    },
    {
      "cell_type": "code",
      "execution_count": null,
      "outputs": [],
      "source": [
        "# String\n",
        "name = 'John'\n",
        "print(\"Name:\", name, \"Type:\", type(name))  # Output: Name: John Type: <class 'str'>\n",
        "# String comparisons and manipulations:\n",
        "# - Python provides string comparison and manipulation methods.\n",
        "print(\"Pepe\" > \"Pepa\")  # Output: True (ASCII comparison)\n",
        "print(\"pepe\" == str.lower(\"Pepe\"))  # Output: True (Case-insensitive comparison)"
      ],
      "metadata": {
        "id": "ad898afc4e44865c"
      },
      "id": "ad898afc4e44865c"
    },
    {
      "cell_type": "code",
      "execution_count": null,
      "outputs": [],
      "source": [
        "# Boolean\n",
        "is_student = True\n",
        "print(\"Is Student:\", is_student, \"Type:\", type(is_student))  # Output: Is Student: True Type: <class 'bool'>\n",
        "\n",
        "# Boolean experiments:\n",
        "# - Python supports boolean data type (True and False) and boolean operations.\n",
        "print(3 == True)  # Output: False\n",
        "print(3 > True)   # Output: True\n",
        "print(0 < True)   # Output: True"
      ],
      "metadata": {
        "id": "8f1df4a919c492bc"
      },
      "id": "8f1df4a919c492bc"
    },
    {
      "cell_type": "markdown",
      "id": "8d54d5c105a8d61f",
      "metadata": {
        "collapsed": false,
        "id": "8d54d5c105a8d61f"
      },
      "source": [
        "#### Exercise 1: Data Type Conversion and String Concatenation\n",
        "\n",
        "In testing, it's crucial to handle various data types and perform operations accordingly. Let's consider a scenario where we need to concatenate different types of data and ensure the correct representation in our test cases.\n",
        "\n",
        "1. Initialize two variables:\n",
        "    - `integer_var` with a value of 10 (an integer)\n",
        "    - `float_var` with a value of 5.5 (a float)\n",
        "\n",
        "2. Perform the following operations:\n",
        "    a. Convert `integer_var` to a float and store it in a new variable `integer_as_float`.\n",
        "    b. Convert `float_var` to an integer and store it in a new variable `float_as_integer`.\n",
        "    c. Concatenate `integer_var` and `float_var` into a single string variable `concatenated_string`. Use appropriate string formatting to ensure clear separation between the integer and float values.\n",
        "\n",
        "3. Print the results of the operations and observe the differences between the original and converted values.\n",
        "\n",
        "4. Reflect on the importance of handling data types correctly in testing scenarios, especially when dealing with different input formats and expected outputs.\n",
        "\n",
        "5. Bonus: Create a small test that compares `integer_var` and `float_var` and checks if they are equal. What happens if you change the value of `float_var` to 10.0 ? Is the assert giving true or false?\n",
        "\n",
        "Remember to document your observations and reflections in the notebook to consolidate your learning from this exercise.\n"
      ]
    },
    {
      "cell_type": "markdown",
      "id": "93ab8d53245b609b",
      "metadata": {
        "collapsed": false,
        "id": "93ab8d53245b609b"
      },
      "source": []
    },
    {
      "cell_type": "code",
      "execution_count": 5,
      "id": "4e225b54a25dc773",
      "metadata": {
        "ExecuteTime": {
          "end_time": "2024-04-10T11:58:06.967122Z",
          "start_time": "2024-04-10T11:58:06.962442Z"
        },
        "id": "4e225b54a25dc773",
        "outputId": "ac7b8553-1f28-4368-d298-b570db528260",
        "colab": {
          "base_uri": "https://localhost:8080/"
        }
      },
      "outputs": [
        {
          "output_type": "stream",
          "name": "stdout",
          "text": [
            "integer_var:  10\n",
            "float_var:  5.5\n",
            "integer_as_float:  10.0\n",
            "float_as_integer:  5\n",
            "concatenated_string:  105.5\n",
            "\n",
            "Reflection:\n",
            "Handling data types correctly is crucial in testing to ensure accurate representation of inputs and outputs.\n",
            "In this exercise, we converted an integer to a float and a float to an integer to demonstrate type conversion.\n",
            "We also concatenated different data types into a single string for better readability.\n",
            "Understanding data types helps testers design robust test cases and verify the behavior of functions under various scenarios.\n",
            "Assertion passed: integer_variable is equal to float_variable.\n"
          ]
        }
      ],
      "source": [
        "#Here your solution\n",
        "# Initialize variables\n",
        "integer_var = 10\n",
        "float_var = 5.5\n",
        "\n",
        "# Step 2: Perform operations\n",
        "\n",
        "# Convert integer_var to float\n",
        "integer_as_float = float(integer_var)\n",
        "\n",
        "# Convert float_var to integer\n",
        "float_as_integer = int(float_var)\n",
        "\n",
        "# Concatenate integer_var and float_var into a single string variable\n",
        "concatenated_string = str(integer_var) + str(float_var)\n",
        "\n",
        "# Step 3: Print results\n",
        "print(\"integer_var: \",integer_var)\n",
        "print(\"float_var: \",float_var)\n",
        "print(\"integer_as_float: \",integer_as_float)\n",
        "print(\"float_as_integer: \",float_as_integer)\n",
        "print(\"concatenated_string: \",concatenated_string)\n",
        "\n",
        "# Step 4: Reflection\n",
        "print(\"\\nReflection:\")\n",
        "print(\"Handling data types correctly is crucial in testing to ensure accurate representation of inputs and outputs.\")\n",
        "print(\"In this exercise, we converted an integer to a float and a float to an integer to demonstrate type conversion.\")\n",
        "print(\"We also concatenated different data types into a single string for better readability.\")\n",
        "print(\"Understanding data types helps testers design robust test cases and verify the behavior of functions under various scenarios.\")\n",
        "\n",
        "# Step 5: Bonus - Compare integer_variable and float_variable\n",
        "\n",
        "# Assigning values to integer_variable and float_variable\n",
        "\n",
        "# Test case: Assert equality between integer_variable and float_variable\n",
        "\n",
        "\n",
        "# Print message if assertion passes\n",
        "print(\"Assertion passed: integer_variable is equal to float_variable.\")"
      ]
    },
    {
      "cell_type": "markdown",
      "id": "29ec6cc542cd2da1",
      "metadata": {
        "collapsed": false,
        "id": "29ec6cc542cd2da1"
      },
      "source": [
        "### Functions:\n",
        " Python provides many built-in functions for performing common tasks. Here are some examples:"
      ]
    },
    {
      "cell_type": "code",
      "execution_count": null,
      "outputs": [],
      "source": [
        "# 1. print(): Outputs the given arguments.\n",
        "print(\"Hello, World!\")  # Output: Hello, World!\n",
        "\n",
        "# 2. len(): Returns the length of an object.\n",
        "string_length = len(\"Python\")  # string_length = 6\n",
        "\n",
        "# 3. range(): Generates a sequence of numbers.\n",
        "numbers = list(range(5))  # numbers = [0, 1, 2, 3, 4]\n",
        "\n",
        "# 4. type(): Returns the type of an object.\n",
        "data_type = type(10)  # data_type = <class 'int'>\n",
        "\n",
        "# 5. max(): Returns the largest element in an iterable or the largest of two or more arguments.\n",
        "max_number = max(4, 7, 2)  # max_number = 7\n",
        "\n",
        "# 6. min(): Returns the smallest element in an iterable or the smallest of two or more arguments.\n",
        "min_number = min(4, 7, 2)  # min_number = 2\n",
        "\n",
        "# 7. sum(): Returns the sum of all elements in an iterable.\n",
        "total = sum([1, 2, 3, 4])  # total = 10\n",
        "\n",
        "# 8. abs(): Returns the absolute value of a number.\n",
        "absolute_value = abs(-5)  # absolute_value = 5\n",
        "\n",
        "# 9. round(): Rounds a number to a specified precision (default is 0).\n",
        "rounded_number = round(3.14159, 2)  # rounded_number = 3.14\n",
        "\n",
        "# 10. input(): Reads a line from input and returns it as a string (Python 3.x).\n",
        "name = input(\"Enter your name: \")  # Prompts the user to enter their name"
      ],
      "metadata": {
        "id": "cfce2f304faeece8"
      },
      "id": "cfce2f304faeece8"
    },
    {
      "cell_type": "markdown",
      "source": [
        "### Basic Calculator\n",
        "* First, print just the result, then introduce how to print several variables '%d'\n",
        "* Then, change the output of the division to float, and then do // (integer division) to see how it changes"
      ],
      "metadata": {
        "collapsed": false,
        "id": "336eed87601b9c14"
      },
      "id": "336eed87601b9c14"
    },
    {
      "cell_type": "code",
      "execution_count": null,
      "outputs": [],
      "source": [],
      "metadata": {
        "id": "263607ee43afc0e1"
      },
      "id": "263607ee43afc0e1"
    }
  ],
  "metadata": {
    "kernelspec": {
      "display_name": "Python 3 (ipykernel)",
      "language": "python",
      "name": "python3"
    },
    "language_info": {
      "codemirror_mode": {
        "name": "ipython",
        "version": 3
      },
      "file_extension": ".py",
      "mimetype": "text/x-python",
      "name": "python",
      "nbconvert_exporter": "python",
      "pygments_lexer": "ipython3",
      "version": "3.9.6"
    },
    "colab": {
      "provenance": [],
      "include_colab_link": true
    }
  },
  "nbformat": 4,
  "nbformat_minor": 5
}